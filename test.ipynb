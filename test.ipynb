{
 "cells": [
  {
   "cell_type": "code",
   "execution_count": 53,
   "id": "81491370-2c1d-4dcd-94b3-96b49844b2ef",
   "metadata": {},
   "outputs": [],
   "source": [
    "from data_preprocess import *"
   ]
  },
  {
   "cell_type": "code",
   "execution_count": 54,
   "id": "61869d39-2c4d-4be0-8ffe-af952afbd9bd",
   "metadata": {},
   "outputs": [],
   "source": [
    "source_vocab = Vocab()\n",
    "target_vocab = Vocab()\n",
    "\n",
    "# Build vocab from training data\n",
    "with open(train_file_path, 'r', encoding='utf-8') as f:\n",
    "    for line in f:\n",
    "        target, source, _ = line.strip().split('\\t')\n",
    "        source_vocab.add_string(source)\n",
    "        target_vocab.add_string(target)"
   ]
  },
  {
   "cell_type": "code",
   "execution_count": 55,
   "id": "1e6aa6f3-13cf-4132-bdaf-ac0d246a15ef",
   "metadata": {},
   "outputs": [],
   "source": [
    "train_file_path = 'dakshina_dataset_v1.0/hi/lexicons/hi.translit.sampled.train.tsv'\n",
    "train_dataset = TransliterationDataset(train_file_path, source_vocab, target_vocab)"
   ]
  },
  {
   "cell_type": "code",
   "execution_count": 59,
   "id": "924071fa-365a-4998-bf2c-74295b30773d",
   "metadata": {},
   "outputs": [
    {
     "name": "stdout",
     "output_type": "stream",
     "text": [
      "84942\n"
     ]
    }
   ],
   "source": [
    "path = train_file_path\n",
    "data = []\n",
    "with open(path, 'r', encoding='utf-8') as f:\n",
    "    reader = csv.reader(f, delimiter='\\t') # read from tsv file and extract data\n",
    "    c = 0\n",
    "    for row in reader:\n",
    "        if len(row) != 3:\n",
    "            continue\n",
    "        tgt, src, count = row # extract target devanagari script and source latin script\n",
    "        src_ids = source_vocab.encode(src, add_sos_eos=False) # encode source sequence\n",
    "        tgt_ids = target_vocab.encode(tgt, add_sos_eos=True) # encode target sequence\n",
    "        for _ in range(int(count)):\n",
    "            data.append((src_ids,tgt_ids))\n",
    "# print(src+' -> '+tgt)\n",
    "# print(src_ids)\n",
    "# print(tgt_ids)\n",
    "print(len(data))"
   ]
  },
  {
   "cell_type": "code",
   "execution_count": 56,
   "id": "bc1b8d8b-0ddf-41d8-b6e6-5f362459752b",
   "metadata": {},
   "outputs": [
    {
     "data": {
      "text/plain": [
       "44204"
      ]
     },
     "execution_count": 56,
     "metadata": {},
     "output_type": "execute_result"
    }
   ],
   "source": [
    "len(train_dataset.data)"
   ]
  },
  {
   "cell_type": "code",
   "execution_count": 44,
   "id": "1b732c81-5750-46f1-a2db-93d3c29b3d58",
   "metadata": {},
   "outputs": [
    {
     "data": {
      "text/plain": [
       "'agnashaya'"
      ]
     },
     "execution_count": 44,
     "metadata": {},
     "output_type": "execute_result"
    }
   ],
   "source": []
  }
 ],
 "metadata": {
  "kernelspec": {
   "display_name": "Python (da6401)",
   "language": "python",
   "name": "da6401"
  },
  "language_info": {
   "codemirror_mode": {
    "name": "ipython",
    "version": 3
   },
   "file_extension": ".py",
   "mimetype": "text/x-python",
   "name": "python",
   "nbconvert_exporter": "python",
   "pygments_lexer": "ipython3",
   "version": "3.12.9"
  }
 },
 "nbformat": 4,
 "nbformat_minor": 5
}
